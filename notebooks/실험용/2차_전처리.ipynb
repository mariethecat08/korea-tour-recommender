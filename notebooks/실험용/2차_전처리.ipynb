{
 "cells": [
  {
   "cell_type": "code",
   "execution_count": 49,
   "id": "5a4cc9c1",
   "metadata": {},
   "outputs": [],
   "source": [
    "import pandas as pd\n",
    "import numpy as np\n",
    "import matplotlib.pyplot as plt\n",
    "import seaborn as sns"
   ]
  },
  {
   "cell_type": "code",
   "execution_count": null,
   "id": "92448590",
   "metadata": {},
   "outputs": [
    {
     "name": "stderr",
     "output_type": "stream",
     "text": [
      "C:\\Users\\sopi0\\AppData\\Local\\Temp\\ipykernel_3156\\956307325.py:1: DtypeWarning: Columns (44) have mixed types. Specify dtype option on import or set low_memory=False.\n",
      "  df = pd.read_csv('C:/Users/sopi0/codes/korea-tour-recommender/data/만족도조사.csv')\n"
     ]
    },
    {
     "data": {
      "text/html": [
       "<div>\n",
       "<style scoped>\n",
       "    .dataframe tbody tr th:only-of-type {\n",
       "        vertical-align: middle;\n",
       "    }\n",
       "\n",
       "    .dataframe tbody tr th {\n",
       "        vertical-align: top;\n",
       "    }\n",
       "\n",
       "    .dataframe thead th {\n",
       "        text-align: right;\n",
       "    }\n",
       "</style>\n",
       "<table border=\"1\" class=\"dataframe\">\n",
       "  <thead>\n",
       "    <tr style=\"text-align: right;\">\n",
       "      <th></th>\n",
       "      <th>아이디</th>\n",
       "      <th>한국 방문횟수(평균)</th>\n",
       "      <th>한국 방문횟수(카테고리)</th>\n",
       "      <th>한국 방문횟수(재방문)</th>\n",
       "      <th>여행 형태</th>\n",
       "      <th>문1. 주요 방한 목적</th>\n",
       "      <th>문1-1. 한국여행 관심 계기_1순위</th>\n",
       "      <th>문1-1. 한국여행 관심 계기_2순위</th>\n",
       "      <th>문1-1. 한국여행 관심 계기_3순위</th>\n",
       "      <th>문2. 방문을 고려한 아시아 국가_1순위</th>\n",
       "      <th>...</th>\n",
       "      <th>문14. 타인 추천 의향</th>\n",
       "      <th>월별</th>\n",
       "      <th>분기별</th>\n",
       "      <th>국가별</th>\n",
       "      <th>성별</th>\n",
       "      <th>연령별</th>\n",
       "      <th>방한목적별</th>\n",
       "      <th>방한횟수별</th>\n",
       "      <th>여행형태별</th>\n",
       "      <th>가중치</th>\n",
       "    </tr>\n",
       "  </thead>\n",
       "  <tbody>\n",
       "    <tr>\n",
       "      <th>0</th>\n",
       "      <td>6.0</td>\n",
       "      <td>4.0</td>\n",
       "      <td>4.0</td>\n",
       "      <td>5.0</td>\n",
       "      <td>1</td>\n",
       "      <td>1</td>\n",
       "      <td>2.0</td>\n",
       "      <td>3.0</td>\n",
       "      <td>4.0</td>\n",
       "      <td>4.0</td>\n",
       "      <td>...</td>\n",
       "      <td>5</td>\n",
       "      <td>1.0</td>\n",
       "      <td>1.0</td>\n",
       "      <td>3.0</td>\n",
       "      <td>2.0</td>\n",
       "      <td>2.0</td>\n",
       "      <td>1.0</td>\n",
       "      <td>4.0</td>\n",
       "      <td>1.0</td>\n",
       "      <td>866.099893</td>\n",
       "    </tr>\n",
       "    <tr>\n",
       "      <th>1</th>\n",
       "      <td>7.0</td>\n",
       "      <td>20.0</td>\n",
       "      <td>4.0</td>\n",
       "      <td>5.0</td>\n",
       "      <td>1</td>\n",
       "      <td>2</td>\n",
       "      <td>2.0</td>\n",
       "      <td>9.0</td>\n",
       "      <td>7.0</td>\n",
       "      <td>NaN</td>\n",
       "      <td>...</td>\n",
       "      <td>5</td>\n",
       "      <td>1.0</td>\n",
       "      <td>1.0</td>\n",
       "      <td>1.0</td>\n",
       "      <td>1.0</td>\n",
       "      <td>3.0</td>\n",
       "      <td>2.0</td>\n",
       "      <td>4.0</td>\n",
       "      <td>1.0</td>\n",
       "      <td>191.333757</td>\n",
       "    </tr>\n",
       "    <tr>\n",
       "      <th>2</th>\n",
       "      <td>8.0</td>\n",
       "      <td>2.0</td>\n",
       "      <td>2.0</td>\n",
       "      <td>5.0</td>\n",
       "      <td>1</td>\n",
       "      <td>5</td>\n",
       "      <td>NaN</td>\n",
       "      <td>NaN</td>\n",
       "      <td>NaN</td>\n",
       "      <td>NaN</td>\n",
       "      <td>...</td>\n",
       "      <td>5</td>\n",
       "      <td>1.0</td>\n",
       "      <td>1.0</td>\n",
       "      <td>4.0</td>\n",
       "      <td>2.0</td>\n",
       "      <td>1.0</td>\n",
       "      <td>5.0</td>\n",
       "      <td>2.0</td>\n",
       "      <td>1.0</td>\n",
       "      <td>244.838755</td>\n",
       "    </tr>\n",
       "    <tr>\n",
       "      <th>3</th>\n",
       "      <td>10.0</td>\n",
       "      <td>1.0</td>\n",
       "      <td>1.0</td>\n",
       "      <td>NaN</td>\n",
       "      <td>1</td>\n",
       "      <td>3</td>\n",
       "      <td>NaN</td>\n",
       "      <td>NaN</td>\n",
       "      <td>NaN</td>\n",
       "      <td>NaN</td>\n",
       "      <td>...</td>\n",
       "      <td>4</td>\n",
       "      <td>1.0</td>\n",
       "      <td>1.0</td>\n",
       "      <td>5.0</td>\n",
       "      <td>1.0</td>\n",
       "      <td>5.0</td>\n",
       "      <td>3.0</td>\n",
       "      <td>1.0</td>\n",
       "      <td>1.0</td>\n",
       "      <td>555.272342</td>\n",
       "    </tr>\n",
       "    <tr>\n",
       "      <th>4</th>\n",
       "      <td>11.0</td>\n",
       "      <td>3.0</td>\n",
       "      <td>3.0</td>\n",
       "      <td>5.0</td>\n",
       "      <td>1</td>\n",
       "      <td>2</td>\n",
       "      <td>8.0</td>\n",
       "      <td>3.0</td>\n",
       "      <td>7.0</td>\n",
       "      <td>NaN</td>\n",
       "      <td>...</td>\n",
       "      <td>5</td>\n",
       "      <td>1.0</td>\n",
       "      <td>1.0</td>\n",
       "      <td>1.0</td>\n",
       "      <td>2.0</td>\n",
       "      <td>4.0</td>\n",
       "      <td>2.0</td>\n",
       "      <td>3.0</td>\n",
       "      <td>1.0</td>\n",
       "      <td>193.434506</td>\n",
       "    </tr>\n",
       "  </tbody>\n",
       "</table>\n",
       "<p>5 rows × 365 columns</p>\n",
       "</div>"
      ],
      "text/plain": [
       "    아이디  한국 방문횟수(평균)  한국 방문횟수(카테고리)  한국 방문횟수(재방문)  여행 형태  문1. 주요 방한 목적  \\\n",
       "0   6.0          4.0            4.0           5.0      1             1   \n",
       "1   7.0         20.0            4.0           5.0      1             2   \n",
       "2   8.0          2.0            2.0           5.0      1             5   \n",
       "3  10.0          1.0            1.0           NaN      1             3   \n",
       "4  11.0          3.0            3.0           5.0      1             2   \n",
       "\n",
       "   문1-1. 한국여행 관심 계기_1순위  문1-1. 한국여행 관심 계기_2순위  문1-1. 한국여행 관심 계기_3순위  \\\n",
       "0                   2.0                   3.0                   4.0   \n",
       "1                   2.0                   9.0                   7.0   \n",
       "2                   NaN                   NaN                   NaN   \n",
       "3                   NaN                   NaN                   NaN   \n",
       "4                   8.0                   3.0                   7.0   \n",
       "\n",
       "   문2. 방문을 고려한 아시아 국가_1순위  ...  문14. 타인 추천 의향   월별  분기별  국가별   성별  연령별  방한목적별  \\\n",
       "0                     4.0  ...              5  1.0  1.0  3.0  2.0  2.0    1.0   \n",
       "1                     NaN  ...              5  1.0  1.0  1.0  1.0  3.0    2.0   \n",
       "2                     NaN  ...              5  1.0  1.0  4.0  2.0  1.0    5.0   \n",
       "3                     NaN  ...              4  1.0  1.0  5.0  1.0  5.0    3.0   \n",
       "4                     NaN  ...              5  1.0  1.0  1.0  2.0  4.0    2.0   \n",
       "\n",
       "   방한횟수별  여행형태별         가중치  \n",
       "0    4.0    1.0  866.099893  \n",
       "1    4.0    1.0  191.333757  \n",
       "2    2.0    1.0  244.838755  \n",
       "3    1.0    1.0  555.272342  \n",
       "4    3.0    1.0  193.434506  \n",
       "\n",
       "[5 rows x 365 columns]"
      ]
     },
     "execution_count": 23,
     "metadata": {},
     "output_type": "execute_result"
    }
   ],
   "source": [
    "# ⚠️ '만족도조사.csv'가 저장된 경로로 바꾸기\n",
    "df = pd.read_csv('C:/Users/sopi0/codes/korea-tour-recommender/data/만족도조사.csv')\n",
    "df.head()"
   ]
  },
  {
   "cell_type": "markdown",
   "id": "1a676a75",
   "metadata": {},
   "source": [
    "# 1. 변수 제거 & 주요 방한 목적==1 & 장기체류자 제거"
   ]
  },
  {
   "cell_type": "code",
   "execution_count": 28,
   "id": "b95113aa",
   "metadata": {},
   "outputs": [],
   "source": [
    "col = ['아이디', '국가별','성별','연령별','문1. 주요 방한 목적', '한국 방문횟수(카테고리)', '문1-1. 한국여행 관심 계기_1순위',\n",
    "       '문3-1. 고려한 관광활동_1순위', '문3-2. 고려한 관광인프라_1순위', '문7. 여행 동반자(1. 혼자 방문)', '문7. 여행 동반자(2. 배우자/파트너)',\n",
    "       '문7. 여행 동반자(3. 부모님)', '문7. 여행 동반자(4. 자녀)', '문7. 여행 동반자(5. 그 외 가족/친지)', '문7. 여행 동반자(6. 친구)', \n",
    "       '문7. 여행 동반자(7. 직장 동료)', '문7. 여행 동반자(8. 기타)', '문7-1. 동반자 수(본인제외)',\n",
    "        '문10. 1인 1일 지출경비(영향치 결측, 61일 이상 결측, 국제교통비 제외)', '문9-3. 총 체재기간_61일 이상 결측', \n",
    "        '문9-4. 시도별 체재기간_서울', '문9-4. 시도별 체재기간_경기', '문9-4. 시도별 체재기간_인천', '문9-4. 시도별 체재기간_강원',\n",
    "        '문9-4. 시도별 체재기간_대전', '문9-4. 시도별 체재기간_충북', '문9-4. 시도별 체재기간_충남', '문9-4. 시도별 체재기간_세종', \n",
    "        '문9-4. 시도별 체재기간_경북', '문9-4. 시도별 체재기간_경남', '문9-4. 시도별 체재기간_대구', '문9-4. 시도별 체재기간_울산',\n",
    "        '문9-4. 시도별 체재기간_부산', '문9-4. 시도별 체재기간_광주', '문9-4. 시도별 체재기간_전북', '문9-4. 시도별 체재기간_전남',\n",
    "        '문9-4. 시도별 체재기간_제주',\n",
    "        '문9-5. 주요 이용 숙박시설(1. 호텔)', '문9-5. 주요 이용 숙박시설(2. 모텔/여관)', '문9-5. 주요 이용 숙박시설(3. 콘도미니엄/리조트)',\n",
    "        '문9-5. 주요 이용 숙박시설(4. 게스트하우스/호스텔)', '문9-5. 주요 이용 숙박시설(5. 민박/펜션)', '문9-5. 주요 이용 숙박시설(6. 학교/회사 기숙사, 연수원 등)',\n",
    "        '문9-5. 주요 이용 숙박시설(7. 친척 또는 친구 집)', '문9-5. 주요 이용 숙박시설(8. 기타)', '문9-5. 주요 이용 숙박시설(9. 숙박하지 않음)',\n",
    "        '문9-5. 숙박시설별 숙박기간(60박 이상 결측)_호텔', '문9-5. 숙박시설별 숙박기간(60박 이상 결측)_모텔/여관', '문9-5. 숙박시설별 숙박기간(60박 이상 결측)_콘도미니엄/리조트',\n",
    "        '문9-5. 숙박시설별 숙박기간(60박 이상 결측)_게스트하우스/호스텔', '문9-5. 숙박시설별 숙박기간(60박 이상 결측)_민박/펜션',\n",
    "        '문9-5. 숙박시설별 숙박기간(60박 이상 결측)_학교/회사 기숙사, 연수원 등', '문9-5. 숙박시설별 숙박기간(60박 이상 결측)_친척 또는 친구 집',\n",
    "        '문9-5. 숙박시설별 숙박기간(60박 이상 결측)_기타'\n",
    "        ]"
   ]
  },
  {
   "cell_type": "code",
   "execution_count": 29,
   "id": "6d92d79c",
   "metadata": {},
   "outputs": [
    {
     "data": {
      "text/html": [
       "<div>\n",
       "<style scoped>\n",
       "    .dataframe tbody tr th:only-of-type {\n",
       "        vertical-align: middle;\n",
       "    }\n",
       "\n",
       "    .dataframe tbody tr th {\n",
       "        vertical-align: top;\n",
       "    }\n",
       "\n",
       "    .dataframe thead th {\n",
       "        text-align: right;\n",
       "    }\n",
       "</style>\n",
       "<table border=\"1\" class=\"dataframe\">\n",
       "  <thead>\n",
       "    <tr style=\"text-align: right;\">\n",
       "      <th></th>\n",
       "      <th>아이디</th>\n",
       "      <th>국가별</th>\n",
       "      <th>성별</th>\n",
       "      <th>연령별</th>\n",
       "      <th>문1. 주요 방한 목적</th>\n",
       "      <th>한국 방문횟수(카테고리)</th>\n",
       "      <th>문1-1. 한국여행 관심 계기_1순위</th>\n",
       "      <th>문3-1. 고려한 관광활동_1순위</th>\n",
       "      <th>문3-2. 고려한 관광인프라_1순위</th>\n",
       "      <th>문7. 여행 동반자(1. 혼자 방문)</th>\n",
       "      <th>...</th>\n",
       "      <th>문9-5. 주요 이용 숙박시설(8. 기타)</th>\n",
       "      <th>문9-5. 주요 이용 숙박시설(9. 숙박하지 않음)</th>\n",
       "      <th>문9-5. 숙박시설별 숙박기간(60박 이상 결측)_호텔</th>\n",
       "      <th>문9-5. 숙박시설별 숙박기간(60박 이상 결측)_모텔/여관</th>\n",
       "      <th>문9-5. 숙박시설별 숙박기간(60박 이상 결측)_콘도미니엄/리조트</th>\n",
       "      <th>문9-5. 숙박시설별 숙박기간(60박 이상 결측)_게스트하우스/호스텔</th>\n",
       "      <th>문9-5. 숙박시설별 숙박기간(60박 이상 결측)_민박/펜션</th>\n",
       "      <th>문9-5. 숙박시설별 숙박기간(60박 이상 결측)_학교/회사 기숙사, 연수원 등</th>\n",
       "      <th>문9-5. 숙박시설별 숙박기간(60박 이상 결측)_친척 또는 친구 집</th>\n",
       "      <th>문9-5. 숙박시설별 숙박기간(60박 이상 결측)_기타</th>\n",
       "    </tr>\n",
       "  </thead>\n",
       "  <tbody>\n",
       "    <tr>\n",
       "      <th>0</th>\n",
       "      <td>6.0</td>\n",
       "      <td>3.0</td>\n",
       "      <td>2.0</td>\n",
       "      <td>2.0</td>\n",
       "      <td>1</td>\n",
       "      <td>4.0</td>\n",
       "      <td>2.0</td>\n",
       "      <td>1.0</td>\n",
       "      <td>6.0</td>\n",
       "      <td>1.0</td>\n",
       "      <td>...</td>\n",
       "      <td>NaN</td>\n",
       "      <td>NaN</td>\n",
       "      <td>2.0</td>\n",
       "      <td>NaN</td>\n",
       "      <td>NaN</td>\n",
       "      <td>NaN</td>\n",
       "      <td>NaN</td>\n",
       "      <td>NaN</td>\n",
       "      <td>24.0</td>\n",
       "      <td>NaN</td>\n",
       "    </tr>\n",
       "    <tr>\n",
       "      <th>1</th>\n",
       "      <td>7.0</td>\n",
       "      <td>1.0</td>\n",
       "      <td>1.0</td>\n",
       "      <td>3.0</td>\n",
       "      <td>2</td>\n",
       "      <td>4.0</td>\n",
       "      <td>2.0</td>\n",
       "      <td>3.0</td>\n",
       "      <td>3.0</td>\n",
       "      <td>1.0</td>\n",
       "      <td>...</td>\n",
       "      <td>NaN</td>\n",
       "      <td>NaN</td>\n",
       "      <td>NaN</td>\n",
       "      <td>NaN</td>\n",
       "      <td>NaN</td>\n",
       "      <td>NaN</td>\n",
       "      <td>NaN</td>\n",
       "      <td>NaN</td>\n",
       "      <td>6.0</td>\n",
       "      <td>NaN</td>\n",
       "    </tr>\n",
       "    <tr>\n",
       "      <th>2</th>\n",
       "      <td>8.0</td>\n",
       "      <td>4.0</td>\n",
       "      <td>2.0</td>\n",
       "      <td>1.0</td>\n",
       "      <td>5</td>\n",
       "      <td>2.0</td>\n",
       "      <td>NaN</td>\n",
       "      <td>NaN</td>\n",
       "      <td>NaN</td>\n",
       "      <td>1.0</td>\n",
       "      <td>...</td>\n",
       "      <td>NaN</td>\n",
       "      <td>NaN</td>\n",
       "      <td>1.0</td>\n",
       "      <td>NaN</td>\n",
       "      <td>NaN</td>\n",
       "      <td>NaN</td>\n",
       "      <td>NaN</td>\n",
       "      <td>NaN</td>\n",
       "      <td>NaN</td>\n",
       "      <td>NaN</td>\n",
       "    </tr>\n",
       "    <tr>\n",
       "      <th>3</th>\n",
       "      <td>10.0</td>\n",
       "      <td>5.0</td>\n",
       "      <td>1.0</td>\n",
       "      <td>5.0</td>\n",
       "      <td>3</td>\n",
       "      <td>1.0</td>\n",
       "      <td>NaN</td>\n",
       "      <td>NaN</td>\n",
       "      <td>NaN</td>\n",
       "      <td>1.0</td>\n",
       "      <td>...</td>\n",
       "      <td>NaN</td>\n",
       "      <td>NaN</td>\n",
       "      <td>7.0</td>\n",
       "      <td>NaN</td>\n",
       "      <td>NaN</td>\n",
       "      <td>NaN</td>\n",
       "      <td>NaN</td>\n",
       "      <td>NaN</td>\n",
       "      <td>NaN</td>\n",
       "      <td>NaN</td>\n",
       "    </tr>\n",
       "    <tr>\n",
       "      <th>4</th>\n",
       "      <td>11.0</td>\n",
       "      <td>1.0</td>\n",
       "      <td>2.0</td>\n",
       "      <td>4.0</td>\n",
       "      <td>2</td>\n",
       "      <td>3.0</td>\n",
       "      <td>8.0</td>\n",
       "      <td>2.0</td>\n",
       "      <td>3.0</td>\n",
       "      <td>1.0</td>\n",
       "      <td>...</td>\n",
       "      <td>NaN</td>\n",
       "      <td>NaN</td>\n",
       "      <td>NaN</td>\n",
       "      <td>NaN</td>\n",
       "      <td>NaN</td>\n",
       "      <td>NaN</td>\n",
       "      <td>NaN</td>\n",
       "      <td>NaN</td>\n",
       "      <td>NaN</td>\n",
       "      <td>NaN</td>\n",
       "    </tr>\n",
       "  </tbody>\n",
       "</table>\n",
       "<p>5 rows × 54 columns</p>\n",
       "</div>"
      ],
      "text/plain": [
       "    아이디  국가별   성별  연령별  문1. 주요 방한 목적  한국 방문횟수(카테고리)  문1-1. 한국여행 관심 계기_1순위  \\\n",
       "0   6.0  3.0  2.0  2.0             1            4.0                   2.0   \n",
       "1   7.0  1.0  1.0  3.0             2            4.0                   2.0   \n",
       "2   8.0  4.0  2.0  1.0             5            2.0                   NaN   \n",
       "3  10.0  5.0  1.0  5.0             3            1.0                   NaN   \n",
       "4  11.0  1.0  2.0  4.0             2            3.0                   8.0   \n",
       "\n",
       "   문3-1. 고려한 관광활동_1순위  문3-2. 고려한 관광인프라_1순위  문7. 여행 동반자(1. 혼자 방문)  ...  \\\n",
       "0                 1.0                  6.0                   1.0  ...   \n",
       "1                 3.0                  3.0                   1.0  ...   \n",
       "2                 NaN                  NaN                   1.0  ...   \n",
       "3                 NaN                  NaN                   1.0  ...   \n",
       "4                 2.0                  3.0                   1.0  ...   \n",
       "\n",
       "   문9-5. 주요 이용 숙박시설(8. 기타)  문9-5. 주요 이용 숙박시설(9. 숙박하지 않음)  \\\n",
       "0                      NaN                           NaN   \n",
       "1                      NaN                           NaN   \n",
       "2                      NaN                           NaN   \n",
       "3                      NaN                           NaN   \n",
       "4                      NaN                           NaN   \n",
       "\n",
       "   문9-5. 숙박시설별 숙박기간(60박 이상 결측)_호텔  문9-5. 숙박시설별 숙박기간(60박 이상 결측)_모텔/여관  \\\n",
       "0                             2.0                                NaN   \n",
       "1                             NaN                                NaN   \n",
       "2                             1.0                                NaN   \n",
       "3                             7.0                                NaN   \n",
       "4                             NaN                                NaN   \n",
       "\n",
       "   문9-5. 숙박시설별 숙박기간(60박 이상 결측)_콘도미니엄/리조트  \\\n",
       "0                                    NaN   \n",
       "1                                    NaN   \n",
       "2                                    NaN   \n",
       "3                                    NaN   \n",
       "4                                    NaN   \n",
       "\n",
       "   문9-5. 숙박시설별 숙박기간(60박 이상 결측)_게스트하우스/호스텔  문9-5. 숙박시설별 숙박기간(60박 이상 결측)_민박/펜션  \\\n",
       "0                                     NaN                                NaN   \n",
       "1                                     NaN                                NaN   \n",
       "2                                     NaN                                NaN   \n",
       "3                                     NaN                                NaN   \n",
       "4                                     NaN                                NaN   \n",
       "\n",
       "   문9-5. 숙박시설별 숙박기간(60박 이상 결측)_학교/회사 기숙사, 연수원 등  \\\n",
       "0                                           NaN   \n",
       "1                                           NaN   \n",
       "2                                           NaN   \n",
       "3                                           NaN   \n",
       "4                                           NaN   \n",
       "\n",
       "   문9-5. 숙박시설별 숙박기간(60박 이상 결측)_친척 또는 친구 집  문9-5. 숙박시설별 숙박기간(60박 이상 결측)_기타  \n",
       "0                                    24.0                             NaN  \n",
       "1                                     6.0                             NaN  \n",
       "2                                     NaN                             NaN  \n",
       "3                                     NaN                             NaN  \n",
       "4                                     NaN                             NaN  \n",
       "\n",
       "[5 rows x 54 columns]"
      ]
     },
     "execution_count": 29,
     "metadata": {},
     "output_type": "execute_result"
    }
   ],
   "source": [
    "df1 = df[col]\n",
    "df1.head()"
   ]
  },
  {
   "cell_type": "code",
   "execution_count": 30,
   "id": "cbb34068",
   "metadata": {},
   "outputs": [
    {
     "data": {
      "text/plain": [
       "(9693, 54)"
      ]
     },
     "execution_count": 30,
     "metadata": {},
     "output_type": "execute_result"
    }
   ],
   "source": [
    "df1 = df1[df1['문1. 주요 방한 목적']==1]\n",
    "df1.shape"
   ]
  },
  {
   "cell_type": "code",
   "execution_count": 34,
   "id": "bf5b1813",
   "metadata": {},
   "outputs": [
    {
     "data": {
      "text/plain": [
       "(9652, 54)"
      ]
     },
     "execution_count": 34,
     "metadata": {},
     "output_type": "execute_result"
    }
   ],
   "source": [
    "df1 = df1.dropna(subset=['문9-3. 총 체재기간_61일 이상 결측'])\n",
    "df1.shape"
   ]
  },
  {
   "cell_type": "markdown",
   "id": "e44197ad",
   "metadata": {},
   "source": [
    "# 2. '숙박시설_그룹' 변수 생성\n",
    "\n",
    "주연이 코드"
   ]
  },
  {
   "cell_type": "code",
   "execution_count": 35,
   "id": "c8259c8a",
   "metadata": {},
   "outputs": [
    {
     "data": {
      "text/plain": [
       "(9652, 54)"
      ]
     },
     "execution_count": 35,
     "metadata": {},
     "output_type": "execute_result"
    }
   ],
   "source": [
    "df2 = df1.copy()\n",
    "df2.shape"
   ]
  },
  {
   "cell_type": "code",
   "execution_count": 36,
   "id": "2c6e5ae7",
   "metadata": {},
   "outputs": [
    {
     "name": "stdout",
     "output_type": "stream",
     "text": [
      "숙박시설_그룹\n",
      "1. 호텔                          7579\n",
      "4. 게스트하우스/호스텔                   545\n",
      "7. 친척 또는 친구 집                   281\n",
      "8. 기타                           221\n",
      "1. 호텔+4. 게스트하우스/호스텔             184\n",
      "2. 모텔/여관                        164\n",
      "5. 민박/펜션                        148\n",
      "1. 호텔+8. 기타                     118\n",
      "1. 호텔+7. 친척 또는 친구 집              83\n",
      "3. 콘도미니엄/리조트                     76\n",
      "1. 호텔+3. 콘도미니엄/리조트               61\n",
      "1. 호텔+5. 민박/펜션                   34\n",
      "1. 호텔+2. 모텔/여관                   29\n",
      "4. 게스트하우스/호스텔+7. 친척 또는 친구 집      15\n",
      "4. 게스트하우스/호스텔+8. 기타              13\n",
      "2. 모텔/여관+7. 친척 또는 친구 집           10\n",
      "2. 모텔/여관+4. 게스트하우스/호스텔            9\n",
      "9. 숙박하지 않음                        9\n",
      "3. 콘도미니엄/리조트+4. 게스트하우스/호스텔        7\n",
      "6. 학교/회사 기숙사, 연수원 등               7\n",
      "Name: count, dtype: int64\n"
     ]
    }
   ],
   "source": [
    "# 숙박시설 관련 컬럼 자동 선택\n",
    "stay_type_cols = [c for c in df.columns if c.startswith('문9-5. 주요 이용 숙박시설(')]\n",
    "stay_days_cols = [c for c in df.columns if c.startswith('문9-5. 숙박시설별 숙박기간(60박 이상 결측)_')]\n",
    "# 숙박시설명 통일용 매핑 (괄호 안 이름 기준으로 동일하게 맞춰줌)\n",
    "stay_mapping = {col.split('(')[-1].replace(')', ''): col for col in stay_days_cols}\n",
    "def merge_stay_types(row):\n",
    "    # 선택된 숙박시설 리스트\n",
    "    selected = [col.split('(')[-1].replace(')', '') for col in stay_type_cols if not pd.isna(row[col])]\n",
    "    # 선택된 숙박시설이 없는 경우\n",
    "    if len(selected) == 0:\n",
    "        return np.nan\n",
    "    # 한 개만 선택된 경우\n",
    "    elif len(selected) == 1:\n",
    "        return selected[0]\n",
    "    # 복합형인 경우: 체류일수 기준으로 가장 오래 머문 숙박시설 선택\n",
    "    else:\n",
    "        durations = {}\n",
    "        for s in selected:\n",
    "            col_name = stay_mapping.get(s)\n",
    "            if col_name in row:\n",
    "                durations[s] = row[col_name]\n",
    "        # 체류일수가 있는 숙박시설 중 가장 오래 머문 곳 선택\n",
    "        if len(durations) > 0:\n",
    "            return max(durations, key=durations.get)\n",
    "        else:\n",
    "            # 체류일수 정보 없으면 그냥 합쳐서 반환\n",
    "            return '+'.join(selected)\n",
    "# 통합 컬럼 생성\n",
    "df2['숙박시설_그룹'] = df2.apply(merge_stay_types, axis=1)\n",
    "# 결과 확인\n",
    "print(df2['숙박시설_그룹'].value_counts(dropna=False).head(20))"
   ]
  },
  {
   "cell_type": "code",
   "execution_count": 37,
   "id": "aea0846a",
   "metadata": {},
   "outputs": [
    {
     "data": {
      "text/plain": [
       "(9652, 55)"
      ]
     },
     "execution_count": 37,
     "metadata": {},
     "output_type": "execute_result"
    }
   ],
   "source": [
    "df2.shape"
   ]
  },
  {
   "cell_type": "code",
   "execution_count": null,
   "id": "0baec594",
   "metadata": {},
   "outputs": [
    {
     "data": {
      "text/plain": [
       "(9652, 38)"
      ]
     },
     "execution_count": 40,
     "metadata": {},
     "output_type": "execute_result"
    }
   ],
   "source": [
    "df2 = df2.drop(stay_type_cols, axis=1)\n",
    "df2 = df2.drop(stay_days_cols, axis=1)\n",
    "df2.shape"
   ]
  },
  {
   "cell_type": "code",
   "execution_count": 42,
   "id": "f92bc9fd",
   "metadata": {},
   "outputs": [
    {
     "data": {
      "text/plain": [
       "Index(['아이디', '국가별', '성별', '연령별', '문1. 주요 방한 목적', '한국 방문횟수(카테고리)',\n",
       "       '문1-1. 한국여행 관심 계기_1순위', '문3-1. 고려한 관광활동_1순위', '문3-2. 고려한 관광인프라_1순위',\n",
       "       '문7. 여행 동반자(1. 혼자 방문)', '문7. 여행 동반자(2. 배우자/파트너)', '문7. 여행 동반자(3. 부모님)',\n",
       "       '문7. 여행 동반자(4. 자녀)', '문7. 여행 동반자(5. 그 외 가족/친지)', '문7. 여행 동반자(6. 친구)',\n",
       "       '문7. 여행 동반자(7. 직장 동료)', '문7. 여행 동반자(8. 기타)', '문7-1. 동반자 수(본인제외)',\n",
       "       '문10. 1인 1일 지출경비(영향치 결측, 61일 이상 결측, 국제교통비 제외)',\n",
       "       '문9-3. 총 체재기간_61일 이상 결측', '문9-4. 시도별 체재기간_서울', '문9-4. 시도별 체재기간_경기',\n",
       "       '문9-4. 시도별 체재기간_인천', '문9-4. 시도별 체재기간_강원', '문9-4. 시도별 체재기간_대전',\n",
       "       '문9-4. 시도별 체재기간_충북', '문9-4. 시도별 체재기간_충남', '문9-4. 시도별 체재기간_세종',\n",
       "       '문9-4. 시도별 체재기간_경북', '문9-4. 시도별 체재기간_경남', '문9-4. 시도별 체재기간_대구',\n",
       "       '문9-4. 시도별 체재기간_울산', '문9-4. 시도별 체재기간_부산', '문9-4. 시도별 체재기간_광주',\n",
       "       '문9-4. 시도별 체재기간_전북', '문9-4. 시도별 체재기간_전남', '문9-4. 시도별 체재기간_제주',\n",
       "       '숙박시설_그룹'],\n",
       "      dtype='object')"
      ]
     },
     "execution_count": 42,
     "metadata": {},
     "output_type": "execute_result"
    }
   ],
   "source": [
    "df2.columns"
   ]
  },
  {
   "cell_type": "markdown",
   "id": "f2431225",
   "metadata": {},
   "source": [
    "# 3. '여행그룹' 변수 생성"
   ]
  },
  {
   "cell_type": "code",
   "execution_count": 44,
   "id": "9dad7b4b",
   "metadata": {},
   "outputs": [
    {
     "data": {
      "text/plain": [
       "(9652, 38)"
      ]
     },
     "execution_count": 44,
     "metadata": {},
     "output_type": "execute_result"
    }
   ],
   "source": [
    "df3 = df2.copy()\n",
    "df3.shape"
   ]
  },
  {
   "cell_type": "code",
   "execution_count": 45,
   "id": "238a582e",
   "metadata": {},
   "outputs": [
    {
     "data": {
      "text/plain": [
       "문7. 여행 동반자(6. 친구)           19308.0\n",
       "문7. 여행 동반자(5. 그 외 가족/친지)     7060.0\n",
       "문7. 여행 동반자(2. 배우자/파트너)       4260.0\n",
       "문7. 여행 동반자(4. 자녀)            4124.0\n",
       "문7. 여행 동반자(7. 직장 동료)         3717.0\n",
       "문7. 여행 동반자(3. 부모님)           3150.0\n",
       "문7. 여행 동반자(1. 혼자 방문)         1906.0\n",
       "문7. 여행 동반자(8. 기타)             520.0\n",
       "dtype: float64"
      ]
     },
     "execution_count": 45,
     "metadata": {},
     "output_type": "execute_result"
    }
   ],
   "source": [
    "partner_cols = [col for col in df3.columns if col.startswith('문7. 여행 동반자')]\n",
    "df3[partner_cols].sum().sort_values(ascending=False)"
   ]
  },
  {
   "cell_type": "code",
   "execution_count": 46,
   "id": "6d182f6c",
   "metadata": {},
   "outputs": [
    {
     "name": "stderr",
     "output_type": "stream",
     "text": [
      "C:\\Users\\sopi0\\AppData\\Local\\Temp\\ipykernel_3156\\1232629494.py:5: FutureWarning: DataFrame.applymap has been deprecated. Use DataFrame.map instead.\n",
      "  X = X.applymap(lambda x: 1 if x != 0 else 0).astype(int)\n"
     ]
    },
    {
     "data": {
      "text/plain": [
       "6. 친구                            2919\n",
       "1. 혼자 방문                         1906\n",
       "2. 배우자/파트너                       1306\n",
       "5. 그 외 가족/친지                      754\n",
       "3. 부모님                            533\n",
       "7. 직장 동료                          459\n",
       "2. 배우자/파트너+4. 자녀                  423\n",
       "4. 자녀                             322\n",
       "3. 부모님+5. 그 외 가족/친지               310\n",
       "2. 배우자/파트너+6. 친구                   88\n",
       "2. 배우자/파트너+5. 그 외 가족/친지            75\n",
       "4. 자녀+5. 그 외 가족/친지                 62\n",
       "5. 그 외 가족/친지+6. 친구                 52\n",
       "2. 배우자/파트너+4. 자녀+5. 그 외 가족/친지      50\n",
       "2. 배우자/파트너+3. 부모님                  37\n",
       "3. 부모님+4. 자녀                       35\n",
       "8. 기타                              35\n",
       "4. 자녀+6. 친구                        32\n",
       "2. 배우자/파트너+3. 부모님+4. 자녀            31\n",
       "6. 친구+7. 직장 동료                     22\n",
       "Name: count, dtype: int64"
      ]
     },
     "execution_count": 46,
     "metadata": {},
     "output_type": "execute_result"
    }
   ],
   "source": [
    "# 문7 관련 컬럼 추출\n",
    "X = df3[partner_cols].fillna(0).astype(int)\n",
    "\n",
    "# 0이 아닌 값은 모두 1로 바꾸기 -> 각 1,2,...,8로 저장되어 있음\n",
    "X = X.applymap(lambda x: 1 if x != 0 else 0).astype(int)\n",
    "\n",
    "# 각 행의 조합\n",
    "combo_series = X.apply(lambda row: '+'.join( [col.split('(')[1].replace(')', '') for col, val in row.items() if val == 1]), axis=1)\n",
    "\n",
    "# 조합 빈도수\n",
    "combo_counts = combo_series.value_counts()\n",
    "combo_counts.head(20)"
   ]
  },
  {
   "cell_type": "code",
   "execution_count": 48,
   "id": "6652af8b",
   "metadata": {},
   "outputs": [
    {
     "data": {
      "text/plain": [
       "여행동반자_그룹\n",
       "가족형           4034\n",
       "친구형           2946\n",
       "혼자형           1906\n",
       "직장형            459\n",
       "복합형(가족+친구)     272\n",
       "기타형             35\n",
       "Name: count, dtype: int64"
      ]
     },
     "execution_count": 48,
     "metadata": {},
     "output_type": "execute_result"
    }
   ],
   "source": [
    "# import numpy as np\n",
    "combo = combo_series.copy()\n",
    "\n",
    "# 각 그룹 조건 설정\n",
    "cond_혼자 = combo.str.contains('혼자', na=False)\n",
    "cond_가족 = combo.str.contains('배우자|자녀|부모님|가족', na=False)\n",
    "cond_친구 = combo.str.contains('친구', na=False)\n",
    "cond_직장 = combo.str.contains('직장', na=False)\n",
    "cond_기타 = combo.str.contains('기타', na=False)\n",
    "\n",
    "# 그룹화 (복합형 먼저 처리해야 함)\n",
    "conditions = [(cond_가족 & cond_친구),\n",
    "               cond_가족,\n",
    "               cond_친구,\n",
    "               cond_혼자,\n",
    "               cond_직장,\n",
    "               cond_기타 ]\n",
    "choices = ['복합형(가족+친구)', '가족형', '친구형', '혼자형', '직장형', '기타형']\n",
    "\n",
    "df3['여행동반자_그룹'] = np.select(conditions, choices, default='기타형')\n",
    "df3['여행동반자_그룹'].value_counts()"
   ]
  },
  {
   "cell_type": "code",
   "execution_count": 53,
   "id": "1d19e216",
   "metadata": {},
   "outputs": [],
   "source": [
    "# 한글 폰트 설정을 위한 코드 (이미 설정하셨다면 생략)\n",
    "plt.rc('font', family='Malgun Gothic') # Windows\n",
    "# plt.rc('font', family='AppleGothic') # Mac\n",
    "plt.rcParams['axes.unicode_minus'] = False # 마이너스 폰트 깨짐 방지"
   ]
  },
  {
   "cell_type": "code",
   "execution_count": 54,
   "id": "edb65d6c",
   "metadata": {},
   "outputs": [
    {
     "data": {
      "image/png": "[encoded data removed]",
      "text/plain": [
       "<Figure size 640x480 with 1 Axes>"
      ]
     },
     "metadata": {},
     "output_type": "display_data"
    }
   ],
   "source": [
    "sns.boxplot(x=df3['여행동반자_그룹'], y=df3['문7-1. 동반자 수(본인제외)'])\n",
    "plt.show()"
   ]
  },
  {
   "cell_type": "code",
   "execution_count": null,
   "id": "196c5302",
   "metadata": {},
   "outputs": [],
   "source": [
    "# # 각 그룹별 이상치가 해당 그룹의 몇 퍼센트를 차지하는지 알아보자.\n",
    "# for name, group in df3.groupby('여행동반자_그룹'):\n",
    "    \n",
    "#     # 동반자 수 데이터만 추출\n",
    "#     companions = group['문7-1. 동반자 수(본인제외)']\n",
    "        \n",
    "#     # Q1, Q3, IQR 계산\n",
    "#     Q1 = companions.quantile(0.25)\n",
    "#     Q3 = companions.quantile(0.75)\n",
    "#     IQR = Q3 - Q1\n",
    "    \n",
    "#     # 이상치 경계값\n",
    "#     upper_bound = Q3 + 1.5 * IQR\n",
    "    \n",
    "#     # 해당 그룹 내 이상치의 인덱스 찾기\n",
    "#     outlier_indices = companions[companions > upper_bound].index\n",
    "        \n",
    "#     # 원본 데이터프레임에 새로운 그룹명 적용\n",
    "#     if not outlier_indices.empty:\n",
    "#         new_group_name = f\"{name}_이상치\" # 예: '가족_이상치'\n",
    "#         df3.loc[outlier_indices, '여행동반자_그룹'] = new_group_name"
   ]
  },
  {
   "cell_type": "code",
   "execution_count": 55,
   "id": "403a1024",
   "metadata": {},
   "outputs": [
    {
     "name": "stdout",
     "output_type": "stream",
     "text": [
      "--- '단체형' 적용 후 그룹 분포 ---\n",
      "여행동반자_그룹\n",
      "가족형           3793\n",
      "친구형           2632\n",
      "혼자형           1906\n",
      "단체형            565\n",
      "직장형            453\n",
      "복합형(가족+친구)     269\n",
      "기타형             34\n",
      "Name: count, dtype: int64\n"
     ]
    }
   ],
   "source": [
    "# 1. 분석에 사용할 컬럼 정의\n",
    "group_col = '여행동반자_그룹'\n",
    "count_col = '문7-1. 동반자 수(본인제외)' # 동반자 수 컬럼\n",
    "\n",
    "# 2. (안전 조치) 동반자 수 컬럼을 숫자로 변환 (이미 되어있다면 생략 가능)\n",
    "# 만약 숫자로 변환할 수 없는 값(예: '없음')이 있다면 NaN으로 바뀝니다.\n",
    "df3[count_col] = pd.to_numeric(df3[count_col], errors='coerce')\n",
    "\n",
    "# 3. 그룹별 IQR 및 이상치 상한선(Upper fence) 계산\n",
    "# '혼자형'은 동반자 수가 0이므로 IQR 계산에서 제외합니다.\n",
    "groups_to_check = df3[df3[group_col] != '혼자형'][group_col].unique()\n",
    "\n",
    "# 그룹별 상한선을 저장할 딕셔너리\n",
    "upper_fence_dict = {}\n",
    "\n",
    "for group in groups_to_check:\n",
    "    # 현재 그룹의 동반자 수 데이터 추출 (NaN 값 제외)\n",
    "    group_data = df3.loc[df3[group_col] == group, count_col].dropna()\n",
    "    \n",
    "    # 데이터가 충분히 있어야 IQR 계산이 의미 있음\n",
    "    if len(group_data) > 1:\n",
    "        Q1 = group_data.quantile(0.25)\n",
    "        Q3 = group_data.quantile(0.75)\n",
    "        IQR = Q3 - Q1\n",
    "        \n",
    "        # 이상치 상한선 (Upper fence)\n",
    "        upper_fence = Q3 + (1.5 * IQR)\n",
    "        upper_fence_dict[group] = upper_fence\n",
    "    else:\n",
    "        # 데이터가 없거나 1개뿐이면, 상한선을 매우 큰 값으로 설정 (이상치 없음)\n",
    "        upper_fence_dict[group] = np.inf\n",
    "\n",
    "# 4. 계산된 상한선(upper_fence)을 df3에 매핑\n",
    "# .map()을 사용하여 각 행의 '여행동반자_그룹'에 맞는 상한선을 새 컬럼으로 추가\n",
    "df3['upper_fence'] = df3[group_col].map(upper_fence_dict)\n",
    "\n",
    "# '혼자형'은 NaN이 되므로, np.inf (무한대)로 채워서 이상치로 분류되지 않게 함\n",
    "df3['upper_fence'] = df3['upper_fence'].fillna(np.inf)\n",
    "\n",
    "# 5. '단체형' 조건 정의\n",
    "# 조건1: 동반자 수가 자신의 그룹별 상한선보다 크다\n",
    "# 조건2: 동반자 수가 0이 아니다 (NaN 방지 및 논리적 확인)\n",
    "cond_단체형 = (df3[count_col] > df3['upper_fence']) & (df3[count_col] > 0)\n",
    "\n",
    "# 6. '단체형'으로 그룹 업데이트\n",
    "# .loc를 사용하여 cond_단체형 조건에 맞는 행의 group_col 값을 '단체형'으로 변경\n",
    "df3.loc[cond_단체형, group_col] = '단체형'\n",
    "\n",
    "# 7. 결과 확인\n",
    "print(\"--- '단체형' 적용 후 그룹 분포 ---\")\n",
    "print(df3[group_col].value_counts())"
   ]
  },
  {
   "cell_type": "code",
   "execution_count": 56,
   "id": "36fc8068",
   "metadata": {},
   "outputs": [
    {
     "data": {
      "text/plain": [
       "(9652, 40)"
      ]
     },
     "execution_count": 56,
     "metadata": {},
     "output_type": "execute_result"
    }
   ],
   "source": [
    "df3.shape"
   ]
  },
  {
   "cell_type": "code",
   "execution_count": 57,
   "id": "bbfe3c8e",
   "metadata": {},
   "outputs": [
    {
     "data": {
      "text/plain": [
       "Index(['아이디', '국가별', '성별', '연령별', '문1. 주요 방한 목적', '한국 방문횟수(카테고리)',\n",
       "       '문1-1. 한국여행 관심 계기_1순위', '문3-1. 고려한 관광활동_1순위', '문3-2. 고려한 관광인프라_1순위',\n",
       "       '문7. 여행 동반자(1. 혼자 방문)', '문7. 여행 동반자(2. 배우자/파트너)', '문7. 여행 동반자(3. 부모님)',\n",
       "       '문7. 여행 동반자(4. 자녀)', '문7. 여행 동반자(5. 그 외 가족/친지)', '문7. 여행 동반자(6. 친구)',\n",
       "       '문7. 여행 동반자(7. 직장 동료)', '문7. 여행 동반자(8. 기타)', '문7-1. 동반자 수(본인제외)',\n",
       "       '문10. 1인 1일 지출경비(영향치 결측, 61일 이상 결측, 국제교통비 제외)',\n",
       "       '문9-3. 총 체재기간_61일 이상 결측', '문9-4. 시도별 체재기간_서울', '문9-4. 시도별 체재기간_경기',\n",
       "       '문9-4. 시도별 체재기간_인천', '문9-4. 시도별 체재기간_강원', '문9-4. 시도별 체재기간_대전',\n",
       "       '문9-4. 시도별 체재기간_충북', '문9-4. 시도별 체재기간_충남', '문9-4. 시도별 체재기간_세종',\n",
       "       '문9-4. 시도별 체재기간_경북', '문9-4. 시도별 체재기간_경남', '문9-4. 시도별 체재기간_대구',\n",
       "       '문9-4. 시도별 체재기간_울산', '문9-4. 시도별 체재기간_부산', '문9-4. 시도별 체재기간_광주',\n",
       "       '문9-4. 시도별 체재기간_전북', '문9-4. 시도별 체재기간_전남', '문9-4. 시도별 체재기간_제주',\n",
       "       '숙박시설_그룹', '여행동반자_그룹', 'upper_fence'],\n",
       "      dtype='object')"
      ]
     },
     "execution_count": 57,
     "metadata": {},
     "output_type": "execute_result"
    }
   ],
   "source": [
    "df3.columns"
   ]
  },
  {
   "cell_type": "code",
   "execution_count": 60,
   "id": "ba82a8c1",
   "metadata": {},
   "outputs": [
    {
     "data": {
      "text/plain": [
       "(9652, 30)"
      ]
     },
     "execution_count": 60,
     "metadata": {},
     "output_type": "execute_result"
    }
   ],
   "source": [
    "drop_col = ['upper_fence','문7. 여행 동반자(1. 혼자 방문)', '문7. 여행 동반자(2. 배우자/파트너)', '문7. 여행 동반자(3. 부모님)',\n",
    "       '문7. 여행 동반자(4. 자녀)', '문7. 여행 동반자(5. 그 외 가족/친지)', '문7. 여행 동반자(6. 친구)',\n",
    "       '문7. 여행 동반자(7. 직장 동료)', '문7. 여행 동반자(8. 기타)', '문7-1. 동반자 수(본인제외)']\n",
    "df3 = df3.drop(drop_col, axis=1)\n",
    "df3.shape"
   ]
  },
  {
   "cell_type": "code",
   "execution_count": 61,
   "id": "ffc20056",
   "metadata": {},
   "outputs": [
    {
     "data": {
      "text/plain": [
       "Index(['아이디', '국가별', '성별', '연령별', '문1. 주요 방한 목적', '한국 방문횟수(카테고리)',\n",
       "       '문1-1. 한국여행 관심 계기_1순위', '문3-1. 고려한 관광활동_1순위', '문3-2. 고려한 관광인프라_1순위',\n",
       "       '문10. 1인 1일 지출경비(영향치 결측, 61일 이상 결측, 국제교통비 제외)',\n",
       "       '문9-3. 총 체재기간_61일 이상 결측', '문9-4. 시도별 체재기간_서울', '문9-4. 시도별 체재기간_경기',\n",
       "       '문9-4. 시도별 체재기간_인천', '문9-4. 시도별 체재기간_강원', '문9-4. 시도별 체재기간_대전',\n",
       "       '문9-4. 시도별 체재기간_충북', '문9-4. 시도별 체재기간_충남', '문9-4. 시도별 체재기간_세종',\n",
       "       '문9-4. 시도별 체재기간_경북', '문9-4. 시도별 체재기간_경남', '문9-4. 시도별 체재기간_대구',\n",
       "       '문9-4. 시도별 체재기간_울산', '문9-4. 시도별 체재기간_부산', '문9-4. 시도별 체재기간_광주',\n",
       "       '문9-4. 시도별 체재기간_전북', '문9-4. 시도별 체재기간_전남', '문9-4. 시도별 체재기간_제주',\n",
       "       '숙박시설_그룹', '여행동반자_그룹'],\n",
       "      dtype='object')"
      ]
     },
     "execution_count": 61,
     "metadata": {},
     "output_type": "execute_result"
    }
   ],
   "source": [
    "df3.columns"
   ]
  },
  {
   "cell_type": "markdown",
   "id": "dd305095",
   "metadata": {},
   "source": [
    "# 4. '시도별 체재기간'"
   ]
  },
  {
   "cell_type": "code",
   "execution_count": 62,
   "id": "d49f81b6",
   "metadata": {},
   "outputs": [
    {
     "data": {
      "text/plain": [
       "(9652, 30)"
      ]
     },
     "execution_count": 62,
     "metadata": {},
     "output_type": "execute_result"
    }
   ],
   "source": [
    "df4 = df3.copy()\n",
    "df4.shape"
   ]
  },
  {
   "cell_type": "markdown",
   "id": "3f105a9e",
   "metadata": {},
   "source": [
    "## 1. '방문 지역 수' 변수 생성"
   ]
  },
  {
   "cell_type": "code",
   "execution_count": 63,
   "id": "677fc143",
   "metadata": {},
   "outputs": [],
   "source": [
    "stay_cols = [\n",
    "    '문9-4. 시도별 체재기간_서울', '문9-4. 시도별 체재기간_경기', '문9-4. 시도별 체재기간_인천', \n",
    "    '문9-4. 시도별 체재기간_강원', '문9-4. 시도별 체재기간_대전', '문9-4. 시도별 체재기간_충북',\n",
    "    '문9-4. 시도별 체재기간_충남', '문9-4. 시도별 체재기간_세종', '문9-4. 시도별 체재기간_경북',\n",
    "    '문9-4. 시도별 체재기간_경남', '문9-4. 시도별 체재기간_대구', '문9-4. 시도별 체재기간_울산',\n",
    "    '문9-4. 시도별 체재기간_부산', '문9-4. 시도별 체재기간_광주', '문9-4. 시도별 체재기간_전북',\n",
    "    '문9-4. 시도별 체재기간_전남', '문9-4. 시도별 체재기간_제주'\n",
    "]"
   ]
  },
  {
   "cell_type": "code",
   "execution_count": 64,
   "id": "68f7e6c5",
   "metadata": {},
   "outputs": [
    {
     "data": {
      "text/html": [
       "<div>\n",
       "<style scoped>\n",
       "    .dataframe tbody tr th:only-of-type {\n",
       "        vertical-align: middle;\n",
       "    }\n",
       "\n",
       "    .dataframe tbody tr th {\n",
       "        vertical-align: top;\n",
       "    }\n",
       "\n",
       "    .dataframe thead th {\n",
       "        text-align: right;\n",
       "    }\n",
       "</style>\n",
       "<table border=\"1\" class=\"dataframe\">\n",
       "  <thead>\n",
       "    <tr style=\"text-align: right;\">\n",
       "      <th></th>\n",
       "      <th>아이디</th>\n",
       "      <th>국가별</th>\n",
       "      <th>성별</th>\n",
       "      <th>연령별</th>\n",
       "      <th>문1. 주요 방한 목적</th>\n",
       "      <th>한국 방문횟수(카테고리)</th>\n",
       "      <th>문1-1. 한국여행 관심 계기_1순위</th>\n",
       "      <th>문3-1. 고려한 관광활동_1순위</th>\n",
       "      <th>문3-2. 고려한 관광인프라_1순위</th>\n",
       "      <th>문10. 1인 1일 지출경비(영향치 결측, 61일 이상 결측, 국제교통비 제외)</th>\n",
       "      <th>...</th>\n",
       "      <th>문9-4. 시도별 체재기간_대구</th>\n",
       "      <th>문9-4. 시도별 체재기간_울산</th>\n",
       "      <th>문9-4. 시도별 체재기간_부산</th>\n",
       "      <th>문9-4. 시도별 체재기간_광주</th>\n",
       "      <th>문9-4. 시도별 체재기간_전북</th>\n",
       "      <th>문9-4. 시도별 체재기간_전남</th>\n",
       "      <th>문9-4. 시도별 체재기간_제주</th>\n",
       "      <th>숙박시설_그룹</th>\n",
       "      <th>여행동반자_그룹</th>\n",
       "      <th>방문 지역 수</th>\n",
       "    </tr>\n",
       "  </thead>\n",
       "  <tbody>\n",
       "    <tr>\n",
       "      <th>0</th>\n",
       "      <td>6.0</td>\n",
       "      <td>3.0</td>\n",
       "      <td>2.0</td>\n",
       "      <td>2.0</td>\n",
       "      <td>1</td>\n",
       "      <td>4.0</td>\n",
       "      <td>2.0</td>\n",
       "      <td>1.0</td>\n",
       "      <td>6.0</td>\n",
       "      <td>40.49</td>\n",
       "      <td>...</td>\n",
       "      <td>NaN</td>\n",
       "      <td>NaN</td>\n",
       "      <td>NaN</td>\n",
       "      <td>NaN</td>\n",
       "      <td>NaN</td>\n",
       "      <td>NaN</td>\n",
       "      <td>NaN</td>\n",
       "      <td>1. 호텔+7. 친척 또는 친구 집</td>\n",
       "      <td>혼자형</td>\n",
       "      <td>2</td>\n",
       "    </tr>\n",
       "    <tr>\n",
       "      <th>5</th>\n",
       "      <td>12.0</td>\n",
       "      <td>5.0</td>\n",
       "      <td>2.0</td>\n",
       "      <td>4.0</td>\n",
       "      <td>1</td>\n",
       "      <td>1.0</td>\n",
       "      <td>8.0</td>\n",
       "      <td>5.0</td>\n",
       "      <td>5.0</td>\n",
       "      <td>228.02</td>\n",
       "      <td>...</td>\n",
       "      <td>NaN</td>\n",
       "      <td>NaN</td>\n",
       "      <td>NaN</td>\n",
       "      <td>NaN</td>\n",
       "      <td>NaN</td>\n",
       "      <td>NaN</td>\n",
       "      <td>NaN</td>\n",
       "      <td>1. 호텔</td>\n",
       "      <td>친구형</td>\n",
       "      <td>1</td>\n",
       "    </tr>\n",
       "    <tr>\n",
       "      <th>6</th>\n",
       "      <td>14.0</td>\n",
       "      <td>8.0</td>\n",
       "      <td>2.0</td>\n",
       "      <td>3.0</td>\n",
       "      <td>1</td>\n",
       "      <td>1.0</td>\n",
       "      <td>4.0</td>\n",
       "      <td>12.0</td>\n",
       "      <td>1.0</td>\n",
       "      <td>204.30</td>\n",
       "      <td>...</td>\n",
       "      <td>NaN</td>\n",
       "      <td>NaN</td>\n",
       "      <td>NaN</td>\n",
       "      <td>NaN</td>\n",
       "      <td>NaN</td>\n",
       "      <td>NaN</td>\n",
       "      <td>NaN</td>\n",
       "      <td>1. 호텔</td>\n",
       "      <td>가족형</td>\n",
       "      <td>2</td>\n",
       "    </tr>\n",
       "    <tr>\n",
       "      <th>8</th>\n",
       "      <td>19.0</td>\n",
       "      <td>8.0</td>\n",
       "      <td>1.0</td>\n",
       "      <td>5.0</td>\n",
       "      <td>1</td>\n",
       "      <td>1.0</td>\n",
       "      <td>1.0</td>\n",
       "      <td>5.0</td>\n",
       "      <td>4.0</td>\n",
       "      <td>219.91</td>\n",
       "      <td>...</td>\n",
       "      <td>NaN</td>\n",
       "      <td>NaN</td>\n",
       "      <td>3.0</td>\n",
       "      <td>NaN</td>\n",
       "      <td>NaN</td>\n",
       "      <td>NaN</td>\n",
       "      <td>NaN</td>\n",
       "      <td>1. 호텔</td>\n",
       "      <td>가족형</td>\n",
       "      <td>3</td>\n",
       "    </tr>\n",
       "    <tr>\n",
       "      <th>9</th>\n",
       "      <td>20.0</td>\n",
       "      <td>3.0</td>\n",
       "      <td>1.0</td>\n",
       "      <td>2.0</td>\n",
       "      <td>1</td>\n",
       "      <td>1.0</td>\n",
       "      <td>7.0</td>\n",
       "      <td>7.0</td>\n",
       "      <td>10.0</td>\n",
       "      <td>167.08</td>\n",
       "      <td>...</td>\n",
       "      <td>NaN</td>\n",
       "      <td>NaN</td>\n",
       "      <td>NaN</td>\n",
       "      <td>NaN</td>\n",
       "      <td>NaN</td>\n",
       "      <td>NaN</td>\n",
       "      <td>NaN</td>\n",
       "      <td>1. 호텔</td>\n",
       "      <td>친구형</td>\n",
       "      <td>2</td>\n",
       "    </tr>\n",
       "  </tbody>\n",
       "</table>\n",
       "<p>5 rows × 31 columns</p>\n",
       "</div>"
      ],
      "text/plain": [
       "    아이디  국가별   성별  연령별  문1. 주요 방한 목적  한국 방문횟수(카테고리)  문1-1. 한국여행 관심 계기_1순위  \\\n",
       "0   6.0  3.0  2.0  2.0             1            4.0                   2.0   \n",
       "5  12.0  5.0  2.0  4.0             1            1.0                   8.0   \n",
       "6  14.0  8.0  2.0  3.0             1            1.0                   4.0   \n",
       "8  19.0  8.0  1.0  5.0             1            1.0                   1.0   \n",
       "9  20.0  3.0  1.0  2.0             1            1.0                   7.0   \n",
       "\n",
       "   문3-1. 고려한 관광활동_1순위  문3-2. 고려한 관광인프라_1순위  \\\n",
       "0                 1.0                  6.0   \n",
       "5                 5.0                  5.0   \n",
       "6                12.0                  1.0   \n",
       "8                 5.0                  4.0   \n",
       "9                 7.0                 10.0   \n",
       "\n",
       "   문10. 1인 1일 지출경비(영향치 결측, 61일 이상 결측, 국제교통비 제외)  ...  문9-4. 시도별 체재기간_대구  \\\n",
       "0                                         40.49  ...                NaN   \n",
       "5                                        228.02  ...                NaN   \n",
       "6                                        204.30  ...                NaN   \n",
       "8                                        219.91  ...                NaN   \n",
       "9                                        167.08  ...                NaN   \n",
       "\n",
       "   문9-4. 시도별 체재기간_울산  문9-4. 시도별 체재기간_부산  문9-4. 시도별 체재기간_광주  문9-4. 시도별 체재기간_전북  \\\n",
       "0                NaN                NaN                NaN                NaN   \n",
       "5                NaN                NaN                NaN                NaN   \n",
       "6                NaN                NaN                NaN                NaN   \n",
       "8                NaN                3.0                NaN                NaN   \n",
       "9                NaN                NaN                NaN                NaN   \n",
       "\n",
       "   문9-4. 시도별 체재기간_전남  문9-4. 시도별 체재기간_제주              숙박시설_그룹  여행동반자_그룹  \\\n",
       "0                NaN                NaN  1. 호텔+7. 친척 또는 친구 집       혼자형   \n",
       "5                NaN                NaN                1. 호텔       친구형   \n",
       "6                NaN                NaN                1. 호텔       가족형   \n",
       "8                NaN                NaN                1. 호텔       가족형   \n",
       "9                NaN                NaN                1. 호텔       친구형   \n",
       "\n",
       "   방문 지역 수  \n",
       "0        2  \n",
       "5        1  \n",
       "6        2  \n",
       "8        3  \n",
       "9        2  \n",
       "\n",
       "[5 rows x 31 columns]"
      ]
     },
     "execution_count": 64,
     "metadata": {},
     "output_type": "execute_result"
    }
   ],
   "source": [
    "df4['방문 지역 수'] = (df4[stay_cols].fillna(0) > 0).sum(axis=1)\n",
    "df4.head()"
   ]
  },
  {
   "cell_type": "markdown",
   "id": "cbdb2aa0",
   "metadata": {},
   "source": [
    "## 2. '주요 체재 지역' 변수 생성"
   ]
  },
  {
   "cell_type": "code",
   "execution_count": 66,
   "id": "d0ffe489",
   "metadata": {},
   "outputs": [
    {
     "data": {
      "text/plain": [
       "(9652, 32)"
      ]
     },
     "execution_count": 66,
     "metadata": {},
     "output_type": "execute_result"
    }
   ],
   "source": [
    "df4['주요 체재 지역'] = df4[stay_cols].idxmax(axis=1)\n",
    "df4['주요 체재 지역'] = df4['주요 체재 지역'].str.replace('문9-4. 시도별 체재기간_', '', regex=False)\n",
    "df4.shape"
   ]
  },
  {
   "cell_type": "code",
   "execution_count": 67,
   "id": "8d55d4c8",
   "metadata": {},
   "outputs": [
    {
     "data": {
      "text/plain": [
       "Index(['아이디', '국가별', '성별', '연령별', '문1. 주요 방한 목적', '한국 방문횟수(카테고리)',\n",
       "       '문1-1. 한국여행 관심 계기_1순위', '문3-1. 고려한 관광활동_1순위', '문3-2. 고려한 관광인프라_1순위',\n",
       "       '문10. 1인 1일 지출경비(영향치 결측, 61일 이상 결측, 국제교통비 제외)',\n",
       "       '문9-3. 총 체재기간_61일 이상 결측', '문9-4. 시도별 체재기간_서울', '문9-4. 시도별 체재기간_경기',\n",
       "       '문9-4. 시도별 체재기간_인천', '문9-4. 시도별 체재기간_강원', '문9-4. 시도별 체재기간_대전',\n",
       "       '문9-4. 시도별 체재기간_충북', '문9-4. 시도별 체재기간_충남', '문9-4. 시도별 체재기간_세종',\n",
       "       '문9-4. 시도별 체재기간_경북', '문9-4. 시도별 체재기간_경남', '문9-4. 시도별 체재기간_대구',\n",
       "       '문9-4. 시도별 체재기간_울산', '문9-4. 시도별 체재기간_부산', '문9-4. 시도별 체재기간_광주',\n",
       "       '문9-4. 시도별 체재기간_전북', '문9-4. 시도별 체재기간_전남', '문9-4. 시도별 체재기간_제주',\n",
       "       '숙박시설_그룹', '여행동반자_그룹', '방문 지역 수', '주요 체재 지역'],\n",
       "      dtype='object')"
      ]
     },
     "execution_count": 67,
     "metadata": {},
     "output_type": "execute_result"
    }
   ],
   "source": [
    "df4.columns"
   ]
  },
  {
   "cell_type": "code",
   "execution_count": 68,
   "id": "727474ca",
   "metadata": {},
   "outputs": [
    {
     "data": {
      "text/plain": [
       "Index(['아이디', '국가별', '성별', '연령별', '문1. 주요 방한 목적', '한국 방문횟수(카테고리)',\n",
       "       '문1-1. 한국여행 관심 계기_1순위', '문3-1. 고려한 관광활동_1순위', '문3-2. 고려한 관광인프라_1순위',\n",
       "       '문10. 1인 1일 지출경비(영향치 결측, 61일 이상 결측, 국제교통비 제외)',\n",
       "       '문9-3. 총 체재기간_61일 이상 결측', '숙박시설_그룹', '여행동반자_그룹', '방문 지역 수', '주요 체재 지역'],\n",
       "      dtype='object')"
      ]
     },
     "execution_count": 68,
     "metadata": {},
     "output_type": "execute_result"
    }
   ],
   "source": [
    "drop_col = [c for c in df4.columns if c.startswith('문9-4. 시도별 체재기간_')]\n",
    "df4 = df4.drop(drop_col, axis=1)\n",
    "df4.columns"
   ]
  },
  {
   "cell_type": "code",
   "execution_count": 77,
   "id": "45222087",
   "metadata": {},
   "outputs": [],
   "source": [
    "# ⚠️'2차 전처리.csv'를 저장할 경로로 바꾸기\n",
    "df4.to_csv('C:/Users/sopi0/codes/korea-tour-recommender/data/2차_전처리.csv')"
   ]
  },
  {
   "cell_type": "markdown",
   "id": "8ee5e759",
   "metadata": {},
   "source": [
    "# 5. '1인 1일 지출경비'"
   ]
  },
  {
   "cell_type": "code",
   "execution_count": null,
   "id": "9c9dd966",
   "metadata": {},
   "outputs": [
    {
     "name": "stdout",
     "output_type": "stream",
     "text": [
      "count    9586.000000\n",
      "mean      225.398654\n",
      "std       191.094761\n",
      "min         0.000000\n",
      "33%       136.430000\n",
      "50%       177.765000\n",
      "66%       225.683000\n",
      "max      2532.500000\n",
      "Name: 문10. 1인 1일 지출경비(영향치 결측, 61일 이상 결측, 국제교통비 제외), dtype: float64\n"
     ]
    }
   ],
   "source": [
    "# print(df4['문10. 1인 1일 지출경비(영향치 결측, 61일 이상 결측, 국제교통비 제외)'].describe(percentiles=[.33, .66]))"
   ]
  },
  {
   "cell_type": "code",
   "execution_count": null,
   "id": "05a634f3",
   "metadata": {},
   "outputs": [
    {
     "data": {
      "text/plain": [
       "<Axes: xlabel='문10. 1인 1일 지출경비(영향치 결측, 61일 이상 결측, 국제교통비 제외)', ylabel='Count'>"
      ]
     },
     "execution_count": 73,
     "metadata": {},
     "output_type": "execute_result"
    },
    {
     "data": {
      "image/png": "[encoded data removed]",
      "text/plain": [
       "<Figure size 640x480 with 1 Axes>"
      ]
     },
     "metadata": {},
     "output_type": "display_data"
    }
   ],
   "source": [
    "# sns.histplot(df4['문10. 1인 1일 지출경비(영향치 결측, 61일 이상 결측, 국제교통비 제외)'], bins=100, kde=True)"
   ]
  },
  {
   "cell_type": "code",
   "execution_count": null,
   "id": "275ddbe4",
   "metadata": {},
   "outputs": [],
   "source": []
  }
 ],
 "metadata": {
  "kernelspec": {
   "display_name": "jjcross",
   "language": "python",
   "name": "python3"
  },
  "language_info": {
   "codemirror_mode": {
    "name": "ipython",
    "version": 3
   },
   "file_extension": ".py",
   "mimetype": "text/x-python",
   "name": "python",
   "nbconvert_exporter": "python",
   "pygments_lexer": "ipython3",
   "version": "3.12.11"
  }
 },
 "nbformat": 4,
 "nbformat_minor": 5
}
